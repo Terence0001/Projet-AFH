{
 "cells": [
  {
   "cell_type": "code",
   "execution_count": 91,
   "metadata": {},
   "outputs": [],
   "source": [
    "import torch\n",
    "import torch.nn as nn\n",
    "import torch.nn.functional as F\n",
    "from torchvision import datasets\n",
    "from torch.utils.data import DataLoader\n",
    "from torchvision.transforms import ToTensor"
   ]
  },
  {
   "cell_type": "code",
   "execution_count": 92,
   "metadata": {},
   "outputs": [],
   "source": [
    "# Charger les données d'entraînement\n",
    "training_data = datasets.FashionMNIST(\n",
    "    root=\"data\",\n",
    "    train=True,\n",
    "    download=True,\n",
    "    transform=ToTensor()\n",
    ")"
   ]
  },
  {
   "cell_type": "code",
   "execution_count": 93,
   "metadata": {},
   "outputs": [],
   "source": [
    "# Charger les données de test\n",
    "test_data = datasets.FashionMNIST(\n",
    "    root=\"data\",\n",
    "    train=False,\n",
    "    download=True,\n",
    "    transform=ToTensor()\n",
    ")"
   ]
  },
  {
   "cell_type": "code",
   "execution_count": 94,
   "metadata": {},
   "outputs": [],
   "source": [
    "image, label = training_data[0]"
   ]
  },
  {
   "cell_type": "code",
   "execution_count": 95,
   "metadata": {},
   "outputs": [],
   "source": [
    "batch_size = 64\n",
    "\n",
    "# Créer un chargeur de données pour les données d'entraînement\n",
    "train_dataloader = DataLoader(training_data, batch_size=batch_size)"
   ]
  },
  {
   "cell_type": "code",
   "execution_count": 96,
   "metadata": {},
   "outputs": [],
   "source": [
    "# Créer un chargeur de données pour les données de test\n",
    "test_dataloader = DataLoader(test_data, batch_size=batch_size)"
   ]
  },
  {
   "cell_type": "code",
   "execution_count": 97,
   "metadata": {},
   "outputs": [],
   "source": [
    "for images, labels in train_dataloader:\n",
    "    # Traiter les images et les étiquettes ici\n",
    "    pass\n"
   ]
  },
  {
   "cell_type": "code",
   "execution_count": 98,
   "metadata": {},
   "outputs": [],
   "source": [
    "class NeuralNetwork(nn.Module):\n",
    "    def __init__(self):\n",
    "        super(NeuralNetwork, self).__init__()\n",
    "        # Applatissez les images d'entrée 28x28 en un vecteur 1D de 784 caractéristiques\n",
    "        self.flatten = nn.Flatten()\n",
    "        # Définissez une pile séquentielle de couches entièrement connectées (linéaires) avec des activations ReLU\n",
    "        self.linear_relu_stack = nn.Sequential(\n",
    "            nn.Linear(28*28, 512), # Première couche cachée avec 512 unités\n",
    "            nn.ReLU(),\n",
    "            nn.Linear(512, 512),#  Deuxième couche cachée avec 512 unités\n",
    "            nn.ReLU(),\n",
    "            nn.Linear(512, 10), # Couche de sortie avec 10 unités (une pour chaque classe)\n",
    "            nn.ReLU()\n",
    "        )\n",
    "\n",
    "    def forward(self, x):\n",
    "        # Aplatir les images d'entrée\n",
    "        x = self.flatten(x)\n",
    "        # Faire passer les données à travers la pile linéaire ReLU\n",
    "        logits = self.linear_relu_stack(x)\n",
    "        return logits"
   ]
  },
  {
   "cell_type": "code",
   "execution_count": 99,
   "metadata": {},
   "outputs": [],
   "source": [
    "model = NeuralNetwork()\n",
    "\n",
    "# Exemple de prédiction sur un lot de données\n",
    "images, labels = next(iter(train_dataloader))\n",
    "output = model(images)\n",
    "_, predictions = torch.max(output, dim=1)\n"
   ]
  },
  {
   "cell_type": "code",
   "execution_count": 100,
   "metadata": {},
   "outputs": [],
   "source": [
    "learning_rate = 1e-3\n",
    "batch_size = 64\n",
    "epochs = 20\n",
    "\n",
    "# Définir la fonction de perte et l'optimiseur\n",
    "loss_fn = nn.CrossEntropyLoss()\n",
    "optimizer = torch.optim.SGD(model.parameters(), lr=learning_rate)"
   ]
  },
  {
   "cell_type": "code",
   "execution_count": 101,
   "metadata": {},
   "outputs": [],
   "source": [
    "# Boucle d'entraînement\n",
    "for epoch in range(epochs):\n",
    "    for images, labels in train_dataloader:\n",
    "        # Calculer les prédictions du modèle\n",
    "        output = model(images)\n",
    "        loss = loss_fn(output, labels)\n",
    "\n",
    "        # Mettre à jour les poids du modèle\n",
    "        optimizer.zero_grad()\n",
    "        loss.backward()\n",
    "        optimizer.step()"
   ]
  },
  {
   "cell_type": "code",
   "execution_count": 102,
   "metadata": {},
   "outputs": [
    {
     "name": "stdout",
     "output_type": "stream",
     "text": [
      "Accuracy: 54.64%\n"
     ]
    }
   ],
   "source": [
    "# Passer en mode d'évaluation\n",
    "model.eval()\n",
    "\n",
    "# Prédire les classes des images de test\n",
    "with torch.no_grad():\n",
    "    correct = 0\n",
    "    total = 0\n",
    "    for images, labels in test_dataloader:\n",
    "        output = model(images)\n",
    "        _, predictions = torch.max(output, dim=1)\n",
    "        total += labels.size(0)\n",
    "        correct += (predictions == labels).sum().item()\n",
    "\n",
    "    accuracy = 100 * correct / total\n",
    "    print(f'Accuracy: {accuracy}%')"
   ]
  },
  {
   "cell_type": "markdown",
   "metadata": {},
   "source": [
    "En ajoutant le caractère de soulignement (_) avant la variable predictions, vous indiquez à Python que vous ne souhaitez pas récupérer le premier élément du tuple renvoyé par torch.max, qui contient les valeurs maximales. À la place, vous ne récupérez que le second élément du tuple, qui contient les indices des valeurs maximales, c’est-à-dire les prédictions du modèle."
   ]
  }
 ],
 "metadata": {
  "kernelspec": {
   "display_name": "venv",
   "language": "python",
   "name": "python3"
  },
  "language_info": {
   "codemirror_mode": {
    "name": "ipython",
    "version": 3
   },
   "file_extension": ".py",
   "mimetype": "text/x-python",
   "name": "python",
   "nbconvert_exporter": "python",
   "pygments_lexer": "ipython3",
   "version": "3.9.12"
  },
  "orig_nbformat": 4
 },
 "nbformat": 4,
 "nbformat_minor": 2
}
